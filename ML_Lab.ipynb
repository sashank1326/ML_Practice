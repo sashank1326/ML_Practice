{
  "nbformat": 4,
  "nbformat_minor": 0,
  "metadata": {
    "colab": {
      "provenance": [],
      "authorship_tag": "ABX9TyNwMRtPnUpspoakbt1++dRu",
      "include_colab_link": true
    },
    "kernelspec": {
      "name": "python3",
      "display_name": "Python 3"
    },
    "language_info": {
      "name": "python"
    }
  },
  "cells": [
    {
      "cell_type": "markdown",
      "metadata": {
        "id": "view-in-github",
        "colab_type": "text"
      },
      "source": [
        "<a href=\"https://colab.research.google.com/github/sashank1326/ML_Practice/blob/main/ML_Lab.ipynb\" target=\"_parent\"><img src=\"https://colab.research.google.com/assets/colab-badge.svg\" alt=\"Open In Colab\"/></a>"
      ]
    },
    {
      "cell_type": "markdown",
      "source": [
        "# **Week1**"
      ],
      "metadata": {
        "id": "HZ9DEgPG2vaM"
      }
    },
    {
      "cell_type": "code",
      "execution_count": null,
      "metadata": {
        "colab": {
          "base_uri": "https://localhost:8080/"
        },
        "id": "G09_H42pz9zE",
        "outputId": "fb5963eb-d321-4cc7-ff82-fc1047cca44b"
      },
      "outputs": [
        {
          "output_type": "stream",
          "name": "stdout",
          "text": [
            "[[0 1 2 3 4]\n",
            " [5 6 7 8 9]]\n"
          ]
        }
      ],
      "source": [
        "import numpy as np\n",
        "n = np.arange(10).reshape(2,-1)\n",
        "print(n)"
      ]
    },
    {
      "cell_type": "code",
      "source": [
        "n = np.arange(10)\n",
        "print(n)\n",
        "n[n%2 == 0] = 8\n",
        "print(n)"
      ],
      "metadata": {
        "colab": {
          "base_uri": "https://localhost:8080/"
        },
        "id": "7JRbDN8Q1eLE",
        "outputId": "cca6ba2b-7b59-494a-bf4a-caf0814f1440"
      },
      "execution_count": null,
      "outputs": [
        {
          "output_type": "stream",
          "name": "stdout",
          "text": [
            "[0 1 2 3 4 5 6 7 8 9]\n",
            "[8 1 8 3 8 5 8 7 8 9]\n"
          ]
        }
      ]
    },
    {
      "cell_type": "code",
      "source": [
        "n = np.arange(10,19).reshape(3,3)\n",
        "print(n)\n",
        "np.trace(n) # it gives sum of diagonal elements"
      ],
      "metadata": {
        "colab": {
          "base_uri": "https://localhost:8080/"
        },
        "id": "289gewfk11lb",
        "outputId": "5af27f64-a784-4ec6-828b-6ee7b3704c7c"
      },
      "execution_count": null,
      "outputs": [
        {
          "output_type": "stream",
          "name": "stdout",
          "text": [
            "[[10 11 12]\n",
            " [13 14 15]\n",
            " [16 17 18]]\n"
          ]
        },
        {
          "output_type": "execute_result",
          "data": {
            "text/plain": [
              "np.int64(42)"
            ]
          },
          "metadata": {},
          "execution_count": 9
        }
      ]
    },
    {
      "cell_type": "code",
      "source": [
        "n = np.array([1,6,2,3,7,2])\n",
        "print(n)\n",
        "print(np.argsort(n))"
      ],
      "metadata": {
        "colab": {
          "base_uri": "https://localhost:8080/"
        },
        "id": "8uiswbjp2VQy",
        "outputId": "e033d5c0-6cc8-4af0-b6c1-b4eb1b4edfc0"
      },
      "execution_count": null,
      "outputs": [
        {
          "output_type": "stream",
          "name": "stdout",
          "text": [
            "[1 6 2 3 7 2]\n",
            "[0 2 5 3 1 4]\n"
          ]
        }
      ]
    },
    {
      "cell_type": "code",
      "source": [
        "n1 = [[1,2],\n",
        "    [3,4]]\n",
        "n2 = [[1,2],\n",
        "      [3,4]]\n",
        "\n",
        "print(np.dot(n1,n2))\n",
        "print(np.multiply(n1,n2)) # element wise muliplication"
      ],
      "metadata": {
        "colab": {
          "base_uri": "https://localhost:8080/"
        },
        "id": "8pWclblE3lCX",
        "outputId": "f05434c7-e40d-43d2-9fd4-8929a1ac86d0"
      },
      "execution_count": null,
      "outputs": [
        {
          "output_type": "stream",
          "name": "stdout",
          "text": [
            "[[ 7 10]\n",
            " [15 22]]\n",
            "[[ 1  4]\n",
            " [ 9 16]]\n"
          ]
        }
      ]
    },
    {
      "cell_type": "code",
      "source": [
        "n = np.arange(5)\n",
        "print(n)\n",
        "print(np.cumsum(n))"
      ],
      "metadata": {
        "colab": {
          "base_uri": "https://localhost:8080/"
        },
        "id": "_dwGYJJS5n0L",
        "outputId": "3539b271-5528-49f6-92d3-5be9a748419f"
      },
      "execution_count": null,
      "outputs": [
        {
          "output_type": "stream",
          "name": "stdout",
          "text": [
            "[0 1 2 3 4]\n",
            "[ 0  1  3  6 10]\n"
          ]
        }
      ]
    },
    {
      "cell_type": "code",
      "source": [
        "n = np.array([[1, np.nan, 3], [4, 5, np.nan], [7, 8, np.nan]])\n",
        "print(n)\n",
        "n[np.isnan(n)] = 10\n",
        "print(n)"
      ],
      "metadata": {
        "colab": {
          "base_uri": "https://localhost:8080/"
        },
        "id": "cxYpAvYX55D6",
        "outputId": "e75586ad-0f13-4519-bae7-ad10173ddcc9"
      },
      "execution_count": null,
      "outputs": [
        {
          "output_type": "stream",
          "name": "stdout",
          "text": [
            "[[ 1. nan  3.]\n",
            " [ 4.  5. nan]\n",
            " [ 7.  8. nan]]\n",
            "[[ 1. 10.  3.]\n",
            " [ 4.  5. 10.]\n",
            " [ 7.  8. 10.]]\n"
          ]
        }
      ]
    },
    {
      "cell_type": "code",
      "source": [
        "a = np.array([1,2,3])\n",
        "b = np.array([0,1,0])\n",
        "puter_product = np.outer(a,b)\n",
        "print(puter_product)"
      ],
      "metadata": {
        "colab": {
          "base_uri": "https://localhost:8080/"
        },
        "id": "iXovV3rS6ShZ",
        "outputId": "fa2cd649-3bbc-41a1-d07b-f67715f4e1fd"
      },
      "execution_count": null,
      "outputs": [
        {
          "output_type": "stream",
          "name": "stdout",
          "text": [
            "[[0 1 0]\n",
            " [0 2 0]\n",
            " [0 3 0]]\n"
          ]
        }
      ]
    },
    {
      "cell_type": "code",
      "source": [
        "a  =np.linspace(0,5,10)\n",
        "print(a)\n",
        "print(a.ndim)"
      ],
      "metadata": {
        "colab": {
          "base_uri": "https://localhost:8080/"
        },
        "id": "rTYcwI-06N_q",
        "outputId": "f5be5615-ab1f-4040-d6c1-311918f7a125"
      },
      "execution_count": null,
      "outputs": [
        {
          "output_type": "stream",
          "name": "stdout",
          "text": [
            "[0.         0.55555556 1.11111111 1.66666667 2.22222222 2.77777778\n",
            " 3.33333333 3.88888889 4.44444444 5.        ]\n",
            "1\n"
          ]
        }
      ]
    },
    {
      "cell_type": "code",
      "source": [
        "r = np.array([4,5,3,1,9])\n",
        "arr_with_border = np.pad(r, (1, 1), mode='constant', constant_values=10)\n",
        "print(arr_with_border)\n",
        "#(1,1) means add element before start of the array and 1 element afer the start of array"
      ],
      "metadata": {
        "colab": {
          "base_uri": "https://localhost:8080/"
        },
        "id": "0ylWFGKZ7DrJ",
        "outputId": "520981bd-cf43-428a-a5e7-11a732a6c6eb"
      },
      "execution_count": null,
      "outputs": [
        {
          "output_type": "stream",
          "name": "stdout",
          "text": [
            "[10  4  5  3  1  9 10]\n"
          ]
        }
      ]
    },
    {
      "cell_type": "markdown",
      "source": [
        "# **Week2**"
      ],
      "metadata": {
        "id": "dyAfpIda7LHT"
      }
    },
    {
      "cell_type": "code",
      "source": [
        "# Normal csv file\n",
        "\n",
        "import pandas as pd\n",
        "\n",
        "df =  pd.read_csv('/content/creict_data.csv')\n",
        "\n",
        "df.info()\n",
        "df.head(3)\n",
        "print(\"Shape of the dataframe\",df.shape)\n"
      ],
      "metadata": {
        "id": "R0nh66Ng70y6"
      },
      "execution_count": null,
      "outputs": []
    },
    {
      "cell_type": "code",
      "source": [
        "print(df.isnull().sum())\n",
        "df['player_name']"
      ],
      "metadata": {
        "colab": {
          "base_uri": "https://localhost:8080/"
        },
        "id": "Y74JJXiyC4nA",
        "outputId": "c8e83c04-5e4a-462f-e632-53e022fdef4e"
      },
      "execution_count": null,
      "outputs": [
        {
          "output_type": "stream",
          "name": "stdout",
          "text": [
            "player_name                 0\n",
            "role                        0\n",
            "total_runs                  0\n",
            "strike_rate                 0\n",
            "total_balls_faced           0\n",
            "total_wickets_taken         0\n",
            "total_runs_conceded         0\n",
            "total_overs_bowled          0\n",
            "total_matches_played        0\n",
            "matches_played_as_batter    0\n",
            "matches_played_as_bowler    0\n",
            "matches_won                 0\n",
            "matches_lost                0\n",
            "player_of_match_awards      0\n",
            "team                        0\n",
            "average                     0\n",
            "percentage                  0\n",
            "dtype: int64\n"
          ]
        }
      ]
    },
    {
      "cell_type": "code",
      "source": [
        "# Scikit Learn\n",
        "\n",
        "from sklearn.datasets import load_iris\n",
        "iris = load_iris()\n",
        "print(\"Keys\",iris.keys())\n",
        "\n",
        "print(\"Number of rows and columns:\", iris.data.shape)\n",
        "\n",
        "print(\"Feature names:\", iris.feature_names)\n",
        "\n",
        "# print(\"Description of the dataset:\", iris.DESCR)"
      ],
      "metadata": {
        "colab": {
          "base_uri": "https://localhost:8080/"
        },
        "id": "dyJ-cusv_ooh",
        "outputId": "f0c07c99-dfed-4387-ff5a-c76da925f94c"
      },
      "execution_count": null,
      "outputs": [
        {
          "output_type": "stream",
          "name": "stdout",
          "text": [
            "Keys dict_keys(['data', 'target', 'frame', 'target_names', 'DESCR', 'feature_names', 'filename', 'data_module'])\n",
            "Number of rows and columns: (150, 4)\n",
            "Feature names: ['sepal length (cm)', 'sepal width (cm)', 'petal length (cm)', 'petal width (cm)']\n"
          ]
        }
      ]
    },
    {
      "cell_type": "code",
      "source": [
        "from sklearn import datasets\n",
        "from sklearn.model_selection import train_test_split\n",
        "from sklearn.ensemble import RandomForestClassifier\n",
        "from sklearn.metrics import accuracy_score\n",
        "\n",
        "iris = datasets.load_iris()\n",
        "X = iris.data\n",
        "y = iris.target\n",
        "\n",
        "X_train, X_test, y_train, y_test = train_test_split(X, y, test_size=0.3, random_state=42)\n",
        "\n",
        "clf = RandomForestClassifier(n_estimators=10)\n",
        "clf.fit(X_train, y_train)\n",
        "\n",
        "y_pred = clf.predict(X_test)\n",
        "\n",
        "accuracy = accuracy_score(y_test, y_pred)\n",
        "print(f\"Accuracy: {accuracy:.2f}\")\n"
      ],
      "metadata": {
        "colab": {
          "base_uri": "https://localhost:8080/"
        },
        "id": "vnDfyfg_Dw_w",
        "outputId": "05fcb5fb-87e3-4766-ba7d-5d548e22d492"
      },
      "execution_count": null,
      "outputs": [
        {
          "output_type": "stream",
          "name": "stdout",
          "text": [
            "Accuracy: 1.00\n"
          ]
        }
      ]
    },
    {
      "cell_type": "code",
      "source": [
        "# 1.Write a Python program to load the iris data from a given csv file into a dataframe and print the shape of the data, type of the data and first 3 rows.\n",
        "import pandas as pd\n",
        "import sklearn\n",
        "from sklearn import datasets\n",
        "# iris = datasets.load_iris()\n",
        "irisdata = pd.read_csv(\"/iris.csv\")\n",
        "irisdf = pd.DataFrame(irisdata)\n",
        "print(irisdf.shape)\n",
        "\n",
        "print(irisdf.dtypes)\n",
        "\n",
        "print(irisdf.head(3))"
      ],
      "metadata": {
        "colab": {
          "base_uri": "https://localhost:8080/"
        },
        "id": "85x75k7d31y4",
        "outputId": "a13dc37c-2375-4014-9426-821f762b5e62"
      },
      "execution_count": null,
      "outputs": [
        {
          "output_type": "stream",
          "name": "stdout",
          "text": [
            "(150, 5)\n",
            "sepal.length    float64\n",
            "sepal.width     float64\n",
            "petal.length    float64\n",
            "petal.width     float64\n",
            "variety          object\n",
            "dtype: object\n",
            "   sepal.length  sepal.width  petal.length  petal.width variety\n",
            "0           5.1          3.5           1.4          0.2  Setosa\n",
            "1           4.9          3.0           1.4          0.2  Setosa\n",
            "2           4.7          3.2           1.3          0.2  Setosa\n"
          ]
        }
      ]
    },
    {
      "cell_type": "code",
      "source": [
        "# *2*. Write a Python program using Scikit-learn to print the keys, number of rows-columns,\n",
        "# feature names and the import sklearn\n",
        "from sklearn import datasets\n",
        "iris = datasets.load_iris()\n",
        "print(iris.keys())\n",
        "print(iris.data.shape)\n",
        "print(iris.feature_names)\n",
        "print(iris.DESCR)"
      ],
      "metadata": {
        "colab": {
          "base_uri": "https://localhost:8080/"
        },
        "id": "qB_-gPa8E4bw",
        "outputId": "1f3a65a6-4dad-40cf-ac49-9ec471b00ca8"
      },
      "execution_count": null,
      "outputs": [
        {
          "output_type": "stream",
          "name": "stdout",
          "text": [
            "dict_keys(['data', 'target', 'frame', 'target_names', 'DESCR', 'feature_names', 'filename', 'data_module'])\n",
            "(150, 4)\n",
            "['sepal length (cm)', 'sepal width (cm)', 'petal length (cm)', 'petal width (cm)']\n",
            ".. _iris_dataset:\n",
            "\n",
            "Iris plants dataset\n",
            "--------------------\n",
            "\n",
            "**Data Set Characteristics:**\n",
            "\n",
            ":Number of Instances: 150 (50 in each of three classes)\n",
            ":Number of Attributes: 4 numeric, predictive attributes and the class\n",
            ":Attribute Information:\n",
            "    - sepal length in cm\n",
            "    - sepal width in cm\n",
            "    - petal length in cm\n",
            "    - petal width in cm\n",
            "    - class:\n",
            "            - Iris-Setosa\n",
            "            - Iris-Versicolour\n",
            "            - Iris-Virginica\n",
            "\n",
            ":Summary Statistics:\n",
            "\n",
            "============== ==== ==== ======= ===== ====================\n",
            "                Min  Max   Mean    SD   Class Correlation\n",
            "============== ==== ==== ======= ===== ====================\n",
            "sepal length:   4.3  7.9   5.84   0.83    0.7826\n",
            "sepal width:    2.0  4.4   3.05   0.43   -0.4194\n",
            "petal length:   1.0  6.9   3.76   1.76    0.9490  (high!)\n",
            "petal width:    0.1  2.5   1.20   0.76    0.9565  (high!)\n",
            "============== ==== ==== ======= ===== ====================\n",
            "\n",
            ":Missing Attribute Values: None\n",
            ":Class Distribution: 33.3% for each of 3 classes.\n",
            ":Creator: R.A. Fisher\n",
            ":Donor: Michael Marshall (MARSHALL%PLU@io.arc.nasa.gov)\n",
            ":Date: July, 1988\n",
            "\n",
            "The famous Iris database, first used by Sir R.A. Fisher. The dataset is taken\n",
            "from Fisher's paper. Note that it's the same as in R, but not as in the UCI\n",
            "Machine Learning Repository, which has two wrong data points.\n",
            "\n",
            "This is perhaps the best known database to be found in the\n",
            "pattern recognition literature.  Fisher's paper is a classic in the field and\n",
            "is referenced frequently to this day.  (See Duda & Hart, for example.)  The\n",
            "data set contains 3 classes of 50 instances each, where each class refers to a\n",
            "type of iris plant.  One class is linearly separable from the other 2; the\n",
            "latter are NOT linearly separable from each other.\n",
            "\n",
            ".. dropdown:: References\n",
            "\n",
            "  - Fisher, R.A. \"The use of multiple measurements in taxonomic problems\"\n",
            "    Annual Eugenics, 7, Part II, 179-188 (1936); also in \"Contributions to\n",
            "    Mathematical Statistics\" (John Wiley, NY, 1950).\n",
            "  - Duda, R.O., & Hart, P.E. (1973) Pattern Classification and Scene Analysis.\n",
            "    (Q327.D83) John Wiley & Sons.  ISBN 0-471-22361-1.  See page 218.\n",
            "  - Dasarathy, B.V. (1980) \"Nosing Around the Neighborhood: A New System\n",
            "    Structure and Classification Rule for Recognition in Partially Exposed\n",
            "    Environments\".  IEEE Transactions on Pattern Analysis and Machine\n",
            "    Intelligence, Vol. PAMI-2, No. 1, 67-71.\n",
            "  - Gates, G.W. (1972) \"The Reduced Nearest Neighbor Rule\".  IEEE Transactions\n",
            "    on Information Theory, May 1972, 431-433.\n",
            "  - See also: 1988 MLC Proceedings, 54-64.  Cheeseman et al\"s AUTOCLASS II\n",
            "    conceptual clustering system finds 3 classes in the data.\n",
            "  - Many, many more ...\n",
            "\n"
          ]
        }
      ]
    },
    {
      "cell_type": "code",
      "source": [
        "# Write a Python program to get the number of observations, missing values and nan values.\n",
        "import sklearn\n",
        "import numpy as np\n",
        "from sklearn import datasets\n",
        "iris = datasets.load_iris()\n",
        "print(\"no.of observations: \", iris.data.shape[0])\n",
        "missingvals = np.isnan(iris.data).sum()\n",
        "print(\"no.of missing values: \", missingvals)"
      ],
      "metadata": {
        "colab": {
          "base_uri": "https://localhost:8080/"
        },
        "id": "XHr0eL4U3n_E",
        "outputId": "717ca27e-77c8-4f02-a607-560219f8dd64"
      },
      "execution_count": null,
      "outputs": [
        {
          "output_type": "stream",
          "name": "stdout",
          "text": [
            "no.of observations:  150\n",
            "no.of missing values:  0\n"
          ]
        }
      ]
    },
    {
      "cell_type": "code",
      "source": [
        "df = pd.read_csv('/iris.csv')\n",
        "print(df.describe())"
      ],
      "metadata": {
        "colab": {
          "base_uri": "https://localhost:8080/"
        },
        "id": "NGkvChrl68jf",
        "outputId": "3ccef116-1e48-45c3-a113-dbe92da786d1"
      },
      "execution_count": null,
      "outputs": [
        {
          "output_type": "stream",
          "name": "stdout",
          "text": [
            "       sepal.length  sepal.width  petal.length  petal.width\n",
            "count    150.000000   150.000000    150.000000   150.000000\n",
            "mean       5.843333     3.057333      3.758000     1.199333\n",
            "std        0.828066     0.435866      1.765298     0.762238\n",
            "min        4.300000     2.000000      1.000000     0.100000\n",
            "25%        5.100000     2.800000      1.600000     0.300000\n",
            "50%        5.800000     3.000000      4.350000     1.300000\n",
            "75%        6.400000     3.300000      5.100000     1.800000\n",
            "max        7.900000     4.400000      6.900000     2.500000\n"
          ]
        }
      ]
    },
    {
      "cell_type": "code",
      "source": [
        "#Write a Python program to get observations of each species (setosa, versicolor, virginica) from iris data.\n",
        "import pandas as pd\n",
        "df = pd.read_csv('/iris.csv')\n",
        "groups = df.groupby('variety')\n",
        "for species, group in groups:\n",
        "    print(f\"Species: {species}\")\n",
        "    print(group)"
      ],
      "metadata": {
        "colab": {
          "base_uri": "https://localhost:8080/"
        },
        "id": "UOvzXORK7lO3",
        "outputId": "d53ff2cb-7875-4af7-e087-bc8a1da78462"
      },
      "execution_count": null,
      "outputs": [
        {
          "output_type": "stream",
          "name": "stdout",
          "text": [
            "Species: Setosa\n",
            "    sepal.length  sepal.width  petal.length  petal.width variety\n",
            "0            5.1          3.5           1.4          0.2  Setosa\n",
            "1            4.9          3.0           1.4          0.2  Setosa\n",
            "2            4.7          3.2           1.3          0.2  Setosa\n",
            "3            4.6          3.1           1.5          0.2  Setosa\n",
            "4            5.0          3.6           1.4          0.2  Setosa\n",
            "5            5.4          3.9           1.7          0.4  Setosa\n",
            "6            4.6          3.4           1.4          0.3  Setosa\n",
            "7            5.0          3.4           1.5          0.2  Setosa\n",
            "8            4.4          2.9           1.4          0.2  Setosa\n",
            "9            4.9          3.1           1.5          0.1  Setosa\n",
            "10           5.4          3.7           1.5          0.2  Setosa\n",
            "11           4.8          3.4           1.6          0.2  Setosa\n",
            "12           4.8          3.0           1.4          0.1  Setosa\n",
            "13           4.3          3.0           1.1          0.1  Setosa\n",
            "14           5.8          4.0           1.2          0.2  Setosa\n",
            "15           5.7          4.4           1.5          0.4  Setosa\n",
            "16           5.4          3.9           1.3          0.4  Setosa\n",
            "17           5.1          3.5           1.4          0.3  Setosa\n",
            "18           5.7          3.8           1.7          0.3  Setosa\n",
            "19           5.1          3.8           1.5          0.3  Setosa\n",
            "20           5.4          3.4           1.7          0.2  Setosa\n",
            "21           5.1          3.7           1.5          0.4  Setosa\n",
            "22           4.6          3.6           1.0          0.2  Setosa\n",
            "23           5.1          3.3           1.7          0.5  Setosa\n",
            "24           4.8          3.4           1.9          0.2  Setosa\n",
            "25           5.0          3.0           1.6          0.2  Setosa\n",
            "26           5.0          3.4           1.6          0.4  Setosa\n",
            "27           5.2          3.5           1.5          0.2  Setosa\n",
            "28           5.2          3.4           1.4          0.2  Setosa\n",
            "29           4.7          3.2           1.6          0.2  Setosa\n",
            "30           4.8          3.1           1.6          0.2  Setosa\n",
            "31           5.4          3.4           1.5          0.4  Setosa\n",
            "32           5.2          4.1           1.5          0.1  Setosa\n",
            "33           5.5          4.2           1.4          0.2  Setosa\n",
            "34           4.9          3.1           1.5          0.2  Setosa\n",
            "35           5.0          3.2           1.2          0.2  Setosa\n",
            "36           5.5          3.5           1.3          0.2  Setosa\n",
            "37           4.9          3.6           1.4          0.1  Setosa\n",
            "38           4.4          3.0           1.3          0.2  Setosa\n",
            "39           5.1          3.4           1.5          0.2  Setosa\n",
            "40           5.0          3.5           1.3          0.3  Setosa\n",
            "41           4.5          2.3           1.3          0.3  Setosa\n",
            "42           4.4          3.2           1.3          0.2  Setosa\n",
            "43           5.0          3.5           1.6          0.6  Setosa\n",
            "44           5.1          3.8           1.9          0.4  Setosa\n",
            "45           4.8          3.0           1.4          0.3  Setosa\n",
            "46           5.1          3.8           1.6          0.2  Setosa\n",
            "47           4.6          3.2           1.4          0.2  Setosa\n",
            "48           5.3          3.7           1.5          0.2  Setosa\n",
            "49           5.0          3.3           1.4          0.2  Setosa\n",
            "Species: Versicolor\n",
            "    sepal.length  sepal.width  petal.length  petal.width     variety\n",
            "50           7.0          3.2           4.7          1.4  Versicolor\n",
            "51           6.4          3.2           4.5          1.5  Versicolor\n",
            "52           6.9          3.1           4.9          1.5  Versicolor\n",
            "53           5.5          2.3           4.0          1.3  Versicolor\n",
            "54           6.5          2.8           4.6          1.5  Versicolor\n",
            "55           5.7          2.8           4.5          1.3  Versicolor\n",
            "56           6.3          3.3           4.7          1.6  Versicolor\n",
            "57           4.9          2.4           3.3          1.0  Versicolor\n",
            "58           6.6          2.9           4.6          1.3  Versicolor\n",
            "59           5.2          2.7           3.9          1.4  Versicolor\n",
            "60           5.0          2.0           3.5          1.0  Versicolor\n",
            "61           5.9          3.0           4.2          1.5  Versicolor\n",
            "62           6.0          2.2           4.0          1.0  Versicolor\n",
            "63           6.1          2.9           4.7          1.4  Versicolor\n",
            "64           5.6          2.9           3.6          1.3  Versicolor\n",
            "65           6.7          3.1           4.4          1.4  Versicolor\n",
            "66           5.6          3.0           4.5          1.5  Versicolor\n",
            "67           5.8          2.7           4.1          1.0  Versicolor\n",
            "68           6.2          2.2           4.5          1.5  Versicolor\n",
            "69           5.6          2.5           3.9          1.1  Versicolor\n",
            "70           5.9          3.2           4.8          1.8  Versicolor\n",
            "71           6.1          2.8           4.0          1.3  Versicolor\n",
            "72           6.3          2.5           4.9          1.5  Versicolor\n",
            "73           6.1          2.8           4.7          1.2  Versicolor\n",
            "74           6.4          2.9           4.3          1.3  Versicolor\n",
            "75           6.6          3.0           4.4          1.4  Versicolor\n",
            "76           6.8          2.8           4.8          1.4  Versicolor\n",
            "77           6.7          3.0           5.0          1.7  Versicolor\n",
            "78           6.0          2.9           4.5          1.5  Versicolor\n",
            "79           5.7          2.6           3.5          1.0  Versicolor\n",
            "80           5.5          2.4           3.8          1.1  Versicolor\n",
            "81           5.5          2.4           3.7          1.0  Versicolor\n",
            "82           5.8          2.7           3.9          1.2  Versicolor\n",
            "83           6.0          2.7           5.1          1.6  Versicolor\n",
            "84           5.4          3.0           4.5          1.5  Versicolor\n",
            "85           6.0          3.4           4.5          1.6  Versicolor\n",
            "86           6.7          3.1           4.7          1.5  Versicolor\n",
            "87           6.3          2.3           4.4          1.3  Versicolor\n",
            "88           5.6          3.0           4.1          1.3  Versicolor\n",
            "89           5.5          2.5           4.0          1.3  Versicolor\n",
            "90           5.5          2.6           4.4          1.2  Versicolor\n",
            "91           6.1          3.0           4.6          1.4  Versicolor\n",
            "92           5.8          2.6           4.0          1.2  Versicolor\n",
            "93           5.0          2.3           3.3          1.0  Versicolor\n",
            "94           5.6          2.7           4.2          1.3  Versicolor\n",
            "95           5.7          3.0           4.2          1.2  Versicolor\n",
            "96           5.7          2.9           4.2          1.3  Versicolor\n",
            "97           6.2          2.9           4.3          1.3  Versicolor\n",
            "98           5.1          2.5           3.0          1.1  Versicolor\n",
            "99           5.7          2.8           4.1          1.3  Versicolor\n",
            "Species: Virginica\n",
            "     sepal.length  sepal.width  petal.length  petal.width    variety\n",
            "100           6.3          3.3           6.0          2.5  Virginica\n",
            "101           5.8          2.7           5.1          1.9  Virginica\n",
            "102           7.1          3.0           5.9          2.1  Virginica\n",
            "103           6.3          2.9           5.6          1.8  Virginica\n",
            "104           6.5          3.0           5.8          2.2  Virginica\n",
            "105           7.6          3.0           6.6          2.1  Virginica\n",
            "106           4.9          2.5           4.5          1.7  Virginica\n",
            "107           7.3          2.9           6.3          1.8  Virginica\n",
            "108           6.7          2.5           5.8          1.8  Virginica\n",
            "109           7.2          3.6           6.1          2.5  Virginica\n",
            "110           6.5          3.2           5.1          2.0  Virginica\n",
            "111           6.4          2.7           5.3          1.9  Virginica\n",
            "112           6.8          3.0           5.5          2.1  Virginica\n",
            "113           5.7          2.5           5.0          2.0  Virginica\n",
            "114           5.8          2.8           5.1          2.4  Virginica\n",
            "115           6.4          3.2           5.3          2.3  Virginica\n",
            "116           6.5          3.0           5.5          1.8  Virginica\n",
            "117           7.7          3.8           6.7          2.2  Virginica\n",
            "118           7.7          2.6           6.9          2.3  Virginica\n",
            "119           6.0          2.2           5.0          1.5  Virginica\n",
            "120           6.9          3.2           5.7          2.3  Virginica\n",
            "121           5.6          2.8           4.9          2.0  Virginica\n",
            "122           7.7          2.8           6.7          2.0  Virginica\n",
            "123           6.3          2.7           4.9          1.8  Virginica\n",
            "124           6.7          3.3           5.7          2.1  Virginica\n",
            "125           7.2          3.2           6.0          1.8  Virginica\n",
            "126           6.2          2.8           4.8          1.8  Virginica\n",
            "127           6.1          3.0           4.9          1.8  Virginica\n",
            "128           6.4          2.8           5.6          2.1  Virginica\n",
            "129           7.2          3.0           5.8          1.6  Virginica\n",
            "130           7.4          2.8           6.1          1.9  Virginica\n",
            "131           7.9          3.8           6.4          2.0  Virginica\n",
            "132           6.4          2.8           5.6          2.2  Virginica\n",
            "133           6.3          2.8           5.1          1.5  Virginica\n",
            "134           6.1          2.6           5.6          1.4  Virginica\n",
            "135           7.7          3.0           6.1          2.3  Virginica\n",
            "136           6.3          3.4           5.6          2.4  Virginica\n",
            "137           6.4          3.1           5.5          1.8  Virginica\n",
            "138           6.0          3.0           4.8          1.8  Virginica\n",
            "139           6.9          3.1           5.4          2.1  Virginica\n",
            "140           6.7          3.1           5.6          2.4  Virginica\n",
            "141           6.9          3.1           5.1          2.3  Virginica\n",
            "142           5.8          2.7           5.1          1.9  Virginica\n",
            "143           6.8          3.2           5.9          2.3  Virginica\n",
            "144           6.7          3.3           5.7          2.5  Virginica\n",
            "145           6.7          3.0           5.2          2.3  Virginica\n",
            "146           6.3          2.5           5.0          1.9  Virginica\n",
            "147           6.5          3.0           5.2          2.0  Virginica\n",
            "148           6.2          3.4           5.4          2.3  Virginica\n",
            "149           5.9          3.0           5.1          1.8  Virginica\n"
          ]
        }
      ]
    },
    {
      "cell_type": "code",
      "source": [
        "# 6. Write a Python program to drop Id column from a given Dataframe and print the\n",
        "# modified part. Call iris.csv to create the Dataframe.\n",
        "import pandas as pd\n",
        "df = pd.read_csv('/iris.csv')\n",
        "df['Id'] = range(1, len(df) + 1) #adding id column since it does not exist in the csv file considered.\n",
        "print(\"DataFrame with Id column:\")\n",
        "print(df.head())\n",
        "dfmodified = df.drop('Id', axis = 1)\n",
        "print(dfmodified.head())"
      ],
      "metadata": {
        "colab": {
          "base_uri": "https://localhost:8080/"
        },
        "id": "u13cr46f8TVH",
        "outputId": "4d85d130-6237-4d1d-92ea-14089c805763"
      },
      "execution_count": null,
      "outputs": [
        {
          "output_type": "stream",
          "name": "stdout",
          "text": [
            "DataFrame with Id column:\n",
            "   sepal.length  sepal.width  petal.length  petal.width variety  Id\n",
            "0           5.1          3.5           1.4          0.2  Setosa   1\n",
            "1           4.9          3.0           1.4          0.2  Setosa   2\n",
            "2           4.7          3.2           1.3          0.2  Setosa   3\n",
            "3           4.6          3.1           1.5          0.2  Setosa   4\n",
            "4           5.0          3.6           1.4          0.2  Setosa   5\n",
            "   sepal.length  sepal.width  petal.length  petal.width variety\n",
            "0           5.1          3.5           1.4          0.2  Setosa\n",
            "1           4.9          3.0           1.4          0.2  Setosa\n",
            "2           4.7          3.2           1.3          0.2  Setosa\n",
            "3           4.6          3.1           1.5          0.2  Setosa\n",
            "4           5.0          3.6           1.4          0.2  Setosa\n"
          ]
        }
      ]
    },
    {
      "cell_type": "code",
      "source": [
        "# 7. Write a Python program to access first four cells from a given Dataframe using the\n",
        "# index and column labels. Call iris.csv to create the Dataframe.\n",
        "import pandas as pd\n",
        "df = pd.read_csv('/iris.csv')\n",
        "print(df.iloc[0:1, 0:4])  # first row and first 4 columns\n",
        "print(df.loc[0, df.columns[0:4]])"
      ],
      "metadata": {
        "colab": {
          "base_uri": "https://localhost:8080/"
        },
        "id": "tcq7u-H_9xGp",
        "outputId": "b18354ef-58fb-43b2-a2e3-d1bc7d9edbf5"
      },
      "execution_count": null,
      "outputs": [
        {
          "output_type": "stream",
          "name": "stdout",
          "text": [
            "   sepal.length  sepal.width  petal.length  petal.width\n",
            "0           5.1          3.5           1.4          0.2\n",
            "sepal.length    5.1\n",
            "sepal.width     3.5\n",
            "petal.length    1.4\n",
            "petal.width     0.2\n",
            "Name: 0, dtype: object\n"
          ]
        }
      ]
    },
    {
      "cell_type": "code",
      "source": [
        "#8. Write a Python program to create a plot to get a general Statistics of Iris data.\n",
        "import pandas as pd\n",
        "import matplotlib.pyplot as plt\n",
        "df = pd.read_csv('/iris.csv')\n",
        "df.describe().plot(kind='bar')\n",
        "plt.title('General Statistics of IRIS Data')\n",
        "plt.tight_layout()\n",
        "plt.show()\n"
      ],
      "metadata": {
        "colab": {
          "base_uri": "https://localhost:8080/",
          "height": 487
        },
        "id": "1cy8Ftko96Qz",
        "outputId": "57b40abb-9746-4eb2-9792-adeb3545ffef"
      },
      "execution_count": null,
      "outputs": [
        {
          "output_type": "display_data",
          "data": {
            "text/plain": [
              "<Figure size 640x480 with 1 Axes>"
            ],
            "image/png": "[encoded data removed]"
          },
          "metadata": {}
        }
      ]
    },
    {
      "cell_type": "code",
      "source": [
        "# Write a Python program to create a Bar plot to get the frequency of the three species of the Iris data.\n",
        "import seaborn as sns\n",
        "import pandas as pd\n",
        "df = pd.read_csv('/iris.csv')\n",
        "sns.countplot(x='variety', data=df)\n",
        "plt.title('Species Frequency')\n",
        "plt.show()"
      ],
      "metadata": {
        "colab": {
          "base_uri": "https://localhost:8080/",
          "height": 472
        },
        "id": "aPXDnNt3_pej",
        "outputId": "a966d09b-6258-49d0-d354-dca70f558cf1"
      },
      "execution_count": null,
      "outputs": [
        {
          "output_type": "display_data",
          "data": {
            "text/plain": [
              "<Figure size 640x480 with 1 Axes>"
            ],
            "image/png": "[encoded data removed]"
          },
          "metadata": {}
        }
      ]
    },
    {
      "cell_type": "code",
      "source": [
        "# 10. Write a Python program to create a Pie plot to get the frequency of the three species of\n",
        "\n",
        "import pandas as pd\n",
        "df = pd.read_csv('/iris.csv')\n",
        "df['variety'].value_counts().plot.pie(autopct='%1.1f%%')\n",
        "plt.title('Species Distribution')\n",
        "plt.ylabel('')\n",
        "plt.show()"
      ],
      "metadata": {
        "colab": {
          "base_uri": "https://localhost:8080/",
          "height": 428
        },
        "id": "a8e4jublAUci",
        "outputId": "0a4ebdf7-8927-4466-c1b1-c49200e232fa"
      },
      "execution_count": null,
      "outputs": [
        {
          "output_type": "display_data",
          "data": {
            "text/plain": [
              "<Figure size 640x480 with 1 Axes>"
            ],
            "image/png": "[encoded data removed]"
          },
          "metadata": {}
        }
      ]
    }
  ]
}